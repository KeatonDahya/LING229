{
  "nbformat": 4,
  "nbformat_minor": 0,
  "metadata": {
    "colab": {
      "provenance": [],
      "authorship_tag": "ABX9TyMJWjorhPtTaZm7EIH1DyFs",
      "include_colab_link": true
    },
    "kernelspec": {
      "name": "python3",
      "display_name": "Python 3"
    },
    "language_info": {
      "name": "python"
    }
  },
  "cells": [
    {
      "cell_type": "markdown",
      "metadata": {
        "id": "view-in-github",
        "colab_type": "text"
      },
      "source": [
        "<a href=\"https://colab.research.google.com/github/KeatonDahya/LING229/blob/main/Assignment_2.ipynb\" target=\"_parent\"><img src=\"https://colab.research.google.com/assets/colab-badge.svg\" alt=\"Open In Colab\"/></a>"
      ]
    },
    {
      "cell_type": "markdown",
      "source": [
        "# Short Program and Written Reflection 2\n",
        "Keaton Dahya\n",
        "\n",
        "300571027"
      ],
      "metadata": {
        "id": "J5auFX9orQwA"
      }
    },
    {
      "cell_type": "code",
      "source": [
        "from google.colab import drive\n",
        "drive.mount('/content/drive')\n"
      ],
      "metadata": {
        "colab": {
          "base_uri": "https://localhost:8080/"
        },
        "id": "_Sb4xLjQzfao",
        "outputId": "321f3d8a-7ab5-4725-e2e1-98a8a05306b9"
      },
      "execution_count": 1,
      "outputs": [
        {
          "output_type": "stream",
          "name": "stdout",
          "text": [
            "Mounted at /content/drive\n"
          ]
        }
      ]
    },
    {
      "cell_type": "code",
      "source": [
        "import os\n",
        "\n",
        "# Define folder paths for Google Drive\n",
        "horror_path = '/content/drive/My Drive/HorrorBooks'\n",
        "romance_path = '/content/drive/My Drive/RomanceBooks'\n",
        "\n",
        "# Function to load text files from a folder\n",
        "def load_texts_from_folder(folder_path):\n",
        "    texts = []\n",
        "    for filename in os.listdir(folder_path):\n",
        "        if filename.endswith('.txt'):  # Ensure only .txt files are loaded\n",
        "            with open(os.path.join(folder_path, filename), 'r', encoding='utf-8') as file:\n",
        "                texts.append(file.read())\n",
        "    return texts\n",
        "\n",
        "horror_texts = load_texts_from_folder(horror_path)\n",
        "romance_texts = load_texts_from_folder(romance_path)"
      ],
      "metadata": {
        "id": "FJvm0kjU0UYy"
      },
      "execution_count": 4,
      "outputs": []
    },
    {
      "cell_type": "markdown",
      "source": [
        "# **Introduction**\n",
        "\n",
        "Research Question- Do horror novels employ a higher frequency of fear-related vocabulary compared to romance novels, which may favor more positively-valenced emotional words?\n",
        "\n",
        "The purpose of this corpus is to compare two distinct categories of texts: Horror novels and Romance novels. The comparison is aimed at analyzing linguistic features such as vocabulary diversity, word frequency, and tone to identify differences in the writing style and emotional focus of these genres.\n",
        "\n",
        "# What Are the Texts About?\n",
        "\n",
        "Horror Novels:\n",
        "The horror texts in this corpus explore themes of fear, suspense, and the supernatural. These novels often use darker language, vivid imagery, and negative emotional vocabulary to create tension and evoke fear in readers.\n",
        "\n",
        "Romance Novels:\n",
        "The romance texts focus on themes of love, relationships, and emotional connection. They typically use positive, sentimental, and descriptive language to highlight intimacy and human connection.\n",
        "\n",
        "# Where do they come From?\n",
        "The texts have been sourced from Project Gutenberg, a digital library of free eBooks in the public domain. Each novel was downloaded as a .txt file and saved into two separate folders:\n",
        "\n",
        "HorrorBooks - contains 10 horror novels.\n",
        "\n",
        "RomanceBooks - contains 10 romance novels.\n",
        "\n",
        "# Categories and How They Were Defined\n",
        "\n",
        "The two categories, Horror and Romance, were defined based on the primary themes and genres of the texts:\n",
        "\n",
        "Texts categorized as Horror include elements of fear, supernatural events, and suspense.\n",
        "\n",
        "Texts categorized as Romance focus on relationships, emotional intimacy, and positive resolution.\n",
        "\n",
        "# How Were the Texts Collected?\n",
        "\n",
        "Step 1: Searched for well-known horror and romance novels on Project Gutenberg.\n",
        "\n",
        "Step 2: Downloaded each novel in .txt format and saved them into their\n",
        "respective folders.\n",
        "\n",
        "Step 3: Ensured there were 10 texts per category to provide a balanced comparison.\n"
      ],
      "metadata": {
        "id": "Sf7A98Wh0miw"
      }
    },
    {
      "cell_type": "code",
      "source": [
        "import os\n",
        "import nltk\n",
        "from nltk.tokenize import word_tokenize\n",
        "import pandas as pd\n",
        "nltk.download('punkt_tab')"
      ],
      "metadata": {
        "colab": {
          "base_uri": "https://localhost:8080/"
        },
        "id": "WvAQ84at4myf",
        "outputId": "8e72b8a4-0365-4340-94f2-df02cef876c3"
      },
      "execution_count": 2,
      "outputs": [
        {
          "output_type": "stream",
          "name": "stderr",
          "text": [
            "[nltk_data] Downloading package punkt_tab to /root/nltk_data...\n",
            "[nltk_data]   Unzipping tokenizers/punkt_tab.zip.\n"
          ]
        },
        {
          "output_type": "execute_result",
          "data": {
            "text/plain": [
              "True"
            ]
          },
          "metadata": {},
          "execution_count": 2
        }
      ]
    },
    {
      "cell_type": "markdown",
      "source": [
        "# **Total Tokens and Total Types**\n",
        "\n",
        "Length: Romance novels contain almost double the total tokens compared to horror novels. This reflects the structural nature of each genre:\n",
        "\n",
        "Romance: The genre emphasizes long, intricate emotional journeys, detailed descriptions of relationships, and often includes dialogue-heavy sections, which increase word count. Additionally, romance novels frequently explore personal growth and multiple perspectives, requiring longer narratives.\n",
        "\n",
        "Horror: The focus in horror is often on brevity and intensity to sustain suspense and fear. Horror novels are more concise and employ sharper pacing to keep readers engaged, which limits overall length.\n",
        "\n",
        "Vocabulary Size: Romance novels also contain 50% more unique words (types),\n",
        "reflecting their broader thematic scope and diverse emotional vocabulary.\n",
        "\n",
        "Romance: Words related to emotions (e.g., love, longing, heartbreak) and detailed descriptions contribute to this larger vocabulary.\n",
        "\n",
        "Horror: The vocabulary focuses on vivid imagery, unsettling descriptions, and unique adjectives to create an atmosphere of fear. However, the scope is narrower as horror stories typically revolve around specific events or settings.\n",
        "\n",
        "\n",
        "---\n",
        "\n",
        "\n",
        "# **Tokens and Types Per Text**\n",
        "\n",
        "Romance novels show greater variability in text length, with the largest text exceeding 250,000 tokens. This highlights the genre's flexibility in narrative scope – romance novels often span long periods, include multiple character arcs, and contain extensive dialogue.\n",
        "\n",
        "Horror novels are more consistent in length, with most texts being shorter. This consistency reflects the genre's focus on pacing – shorter, tighter narratives sustain tension and fear more effectively.\n",
        "\n",
        "In romance novels, the higher range of types per text suggests a wider vocabulary usage for detailed and emotionally rich prose.\n",
        "\n",
        "In horror novels, even with fewer tokens, the variety of types is still significant, emphasizing the use of descriptive and chilling language.\n",
        "\n",
        "This supports the idea that horror writers rely on evocative and precise word choices to build suspense within shorter texts.\n",
        "\n",
        "\n",
        "---\n",
        "\n",
        "\n",
        "# **Average Tokens and Types per Text**\n",
        "\n",
        "Romance novels, on average, have almost double the word count per text compared to horror. This reflects:\n",
        "\n",
        "The emotional depth and complexity of romance novels, which often explore relationships over extended timelines.\n",
        "\n",
        "Extensive dialogue, backstories, and intricate settings, which naturally add more words.\n",
        "\n",
        "The higher average unique words per text in romance novels shows the need for diverse vocabulary to capture nuances in emotions, relationships, and settings. Romance novels are filled with emotionally descriptive words.\n",
        "\n",
        "Horror's Focus on Precision: Despite having fewer total words, horror novels still maintain a significant vocabulary size. This suggests that horror authors are more deliberate in word choice to maximize the emotional impact in fewer words.\n",
        "\n",
        "\n",
        "---\n",
        "\n",
        "\n",
        "# **Lexical Diversity**\n",
        "**Horror Novels: 0.0315**\n",
        "\n",
        "**Romance Novels: 0.0257**\n",
        "\n",
        "Lexical Diversity measures the ratio of unique words to total words. A higher value means more variety in vocabulary relative to the total word count.\n",
        "Horror novels show slightly higher lexical diversity than romance novels (0.0315 vs. 0.0257).\n",
        "\n",
        "Horror Novels: Higher lexical diversity indicates a need for rich and varied descriptions to create suspense, fear, and vivid imagery. Horror authors aim for precision to paint unsettling mental images in fewer words.\n",
        "\n",
        "Romance Novels: Lower lexical diversity is not a negative factor. Romance novels often rely on repetitive language for emotional emphasis and rhythm."
      ],
      "metadata": {
        "id": "IOO7MdUC8LZ0"
      }
    },
    {
      "cell_type": "code",
      "source": [
        "# Function to calculate metrics\n",
        "def calculate_metrics(texts):\n",
        "    total_tokens = 0\n",
        "    unique_tokens = set()\n",
        "    tokens_per_text = []\n",
        "    types_per_text = []\n",
        "\n",
        "    for text in texts:\n",
        "        tokens = word_tokenize(text.lower())\n",
        "        tokens_per_text.append(len(tokens))  # Tokens in this text\n",
        "        types_per_text.append(len(set(tokens)))  # Unique types in this text\n",
        "        total_tokens += len(tokens)\n",
        "        unique_tokens.update(tokens)\n",
        "\n",
        "    avg_tokens = sum(tokens_per_text) / len(tokens_per_text)\n",
        "    avg_types = sum(types_per_text) / len(types_per_text)\n",
        "    lexical_diversity = len(unique_tokens) / total_tokens\n",
        "\n",
        "    return {\n",
        "        \"Total tokens (entire corpus)\": total_tokens,\n",
        "        \"Total types (entire corpus)\": len(unique_tokens),\n",
        "        \"Tokens per text\": tokens_per_text,\n",
        "        \"Types per text\": types_per_text,\n",
        "        \"Average tokens per text\": round(avg_tokens, 2),\n",
        "        \"Average types per text\": round(avg_types, 2),\n",
        "        \"Lexical diversity\": round(lexical_diversity, 4)\n",
        "    }\n",
        "\n",
        "# Load texts and calculate metrics for Horror\n",
        "horror_texts = load_texts_from_folder(horror_path)\n",
        "horror_metrics = calculate_metrics(horror_texts)\n",
        "\n",
        "# Print results for Horror\n",
        "print(\"\\n**Horror Category Metrics:**\")\n",
        "for key, value in horror_metrics.items():\n",
        "    print(f\"{key}: {value}\")"
      ],
      "metadata": {
        "colab": {
          "base_uri": "https://localhost:8080/"
        },
        "id": "IfilsGIS0rNT",
        "outputId": "14c422dc-b3e0-4045-a0d9-f1d1219985ed"
      },
      "execution_count": 5,
      "outputs": [
        {
          "output_type": "stream",
          "name": "stdout",
          "text": [
            "\n",
            "**Horror Category Metrics:**\n",
            "Total tokens (entire corpus): 762484\n",
            "Total types (entire corpus): 24007\n",
            "Tokens per text: [103874, 129548, 71466, 102701, 66480, 91590, 40191, 59940, 67098, 29596]\n",
            "Types per text: [8095, 9081, 7365, 8796, 5060, 8104, 4623, 5785, 6722, 4167]\n",
            "Average tokens per text: 76248.4\n",
            "Average types per text: 6779.8\n",
            "Lexical diversity: 0.0315\n"
          ]
        }
      ]
    },
    {
      "cell_type": "code",
      "source": [
        "# Function to load text files from a folder\n",
        "def load_texts_from_folder(folder_path):\n",
        "    texts = []\n",
        "    for filename in os.listdir(folder_path):\n",
        "        if filename.endswith('.txt'):\n",
        "            with open(os.path.join(folder_path, filename), 'r', encoding='utf-8') as file:\n",
        "                texts.append(file.read())\n",
        "    return texts\n",
        "\n",
        "# Function to calculate metrics\n",
        "def calculate_metrics(texts):\n",
        "    total_tokens = 0\n",
        "    unique_tokens = set()\n",
        "    tokens_per_text = []\n",
        "    types_per_text = []\n",
        "\n",
        "    for text in texts:\n",
        "        tokens = word_tokenize(text.lower())\n",
        "        tokens_per_text.append(len(tokens))  # Tokens in this text\n",
        "        types_per_text.append(len(set(tokens)))  # Unique types in this text\n",
        "        total_tokens += len(tokens)\n",
        "        unique_tokens.update(tokens)\n",
        "\n",
        "    avg_tokens = sum(tokens_per_text) / len(tokens_per_text)\n",
        "    avg_types = sum(types_per_text) / len(types_per_text)\n",
        "    lexical_diversity = len(unique_tokens) / total_tokens\n",
        "\n",
        "    return {\n",
        "        \"Total tokens (entire corpus)\": total_tokens,\n",
        "        \"Total types (entire corpus)\": len(unique_tokens),\n",
        "        \"Tokens per text\": tokens_per_text,\n",
        "        \"Types per text\": types_per_text,\n",
        "        \"Average tokens per text\": round(avg_tokens, 2),\n",
        "        \"Average types per text\": round(avg_types, 2),\n",
        "        \"Lexical diversity\": round(lexical_diversity, 4)\n",
        "    }\n",
        "\n",
        "# Load texts and calculate metrics for Romance\n",
        "romance_texts = load_texts_from_folder(romance_path)\n",
        "romance_metrics = calculate_metrics(romance_texts)\n",
        "\n",
        "print(\"\\n**Romance Category Metrics:**\")\n",
        "for key, value in romance_metrics.items():\n",
        "    print(f\"{key}: {value}\")"
      ],
      "metadata": {
        "colab": {
          "base_uri": "https://localhost:8080/"
        },
        "id": "c1wIh8Ty5IWh",
        "outputId": "39c8a742-000c-48cf-943f-d8a5b6b06535"
      },
      "execution_count": 6,
      "outputs": [
        {
          "output_type": "stream",
          "name": "stdout",
          "text": [
            "\n",
            "**Romance Category Metrics:**\n",
            "Total tokens (entire corpus): 1393360\n",
            "Total types (entire corpus): 35804\n",
            "Tokens per text: [65701, 197465, 251840, 89205, 105285, 147833, 225984, 104855, 78867, 126325]\n",
            "Types per text: [5535, 12507, 12810, 7753, 9979, 10661, 13250, 8100, 6924, 7257]\n",
            "Average tokens per text: 139336.0\n",
            "Average types per text: 9477.6\n",
            "Lexical diversity: 0.0257\n"
          ]
        }
      ]
    },
    {
      "cell_type": "markdown",
      "source": [
        "# **Lexical Profiles**\n",
        "\n",
        "To construct the lexical profiles for my texts (Horror Novels vs. Romance Novels), I will analyze each text’s word frequency, word variety, and overall richness. This analysis provides insights into how language is used differently across genres. I will calculate:\n",
        "\n",
        "**Tokens**\n",
        "\n",
        "The total number of words in a text, including repetitions. Tokens reflect the overall length and verbosity of the text.\n",
        "\n",
        "Texts with higher token counts are typically longer and more descriptive, while shorter texts may focus on conciseness and impact.\n",
        "\n",
        "I will use the nltk.word_tokenize() function to split each text into individual words (tokens). Lowercasing all words ensures consistency and avoids duplicates caused by capitalization.\n",
        "\n",
        "\n",
        "---\n",
        "\n",
        "\n",
        "**Types**\n",
        "\n",
        "The number of unique words in the text. Types indicate the vocabulary diversity and word variation within the text.\n",
        "\n",
        "A text with a high number of unique words (types) often explores complex ideas or employs a varied vocabulary, as seen in genres like romance novels.\n",
        "\n",
        "I will extract unique words using the set() function, then calculate their total count.\n",
        "\n",
        "\n",
        "---\n",
        "\n",
        "\n",
        "**Lexical Diversity**\n",
        "\n",
        "The ratio of unique words (types) to the total number of words (tokens)\n",
        "\n",
        "Lexical Diversity = Unique Types / Total Tokens\n",
        "\n",
        " Lexical diversity provides a measure of language richness. Horror novels, for instance, might use concise yet impactful language, leading to higher diversity in fewer words. Romance novels, with longer narratives and repetitive emotional vocabulary, may show lower diversity.\n",
        "\n",
        "I will divide the unique types by the total tokens to compute this ratio.\n",
        "\n",
        "\n"
      ],
      "metadata": {
        "id": "gGO_g9Ej-pQ1"
      }
    },
    {
      "cell_type": "code",
      "source": [
        "# Function to calculate lexical profile for a single text\n",
        "def calculate_lexical_profile(text):\n",
        "    tokens = word_tokenize(text.lower())  # Tokenize and lowercase text\n",
        "    total_tokens = len(tokens)            # Total words (tokens)\n",
        "    unique_types = len(set(tokens))       # Unique words (types)\n",
        "    lexical_diversity = unique_types / total_tokens  # Lexical diversity\n",
        "\n",
        "    return total_tokens, unique_types, lexical_diversity\n",
        "\n",
        "# Function to process a folder of texts and calculate profiles\n",
        "def process_folder(folder_path):\n",
        "    results = []\n",
        "    for file_name in os.listdir(folder_path):\n",
        "        if file_name.endswith('.txt'):  # Only process .txt files\n",
        "            with open(os.path.join(folder_path, file_name), 'r', encoding='utf-8') as file:\n",
        "                text = file.read()\n",
        "                total_tokens, unique_types, lexical_diversity = calculate_lexical_profile(text)\n",
        "                results.append({\n",
        "                    'File': file_name,\n",
        "                    'Total Tokens': total_tokens,\n",
        "                    'Unique Types': unique_types,\n",
        "                    'Lexical Diversity': round(lexical_diversity, 4)\n",
        "                })\n",
        "    return results\n",
        "\n",
        "horror_path = '/content/drive/MyDrive/HorrorBooks'\n",
        "romance_path = '/content/drive/MyDrive/RomanceBooks'\n",
        "\n",
        "horror_results = process_folder(horror_path)\n",
        "romance_results = process_folder(romance_path)\n",
        "\n",
        "horror_df = pd.DataFrame(horror_results)\n",
        "romance_df = pd.DataFrame(romance_results)\n",
        "\n",
        "horror_averages = {\n",
        "    'File': 'AVERAGE',\n",
        "    'Total Tokens': horror_df['Total Tokens'].mean(),\n",
        "    'Unique Types': horror_df['Unique Types'].mean(),\n",
        "    'Lexical Diversity': horror_df['Lexical Diversity'].mean()\n",
        "}\n",
        "\n",
        "romance_averages = {\n",
        "    'File': 'AVERAGE',\n",
        "    'Total Tokens': romance_df['Total Tokens'].mean(),\n",
        "    'Unique Types': romance_df['Unique Types'].mean(),\n",
        "    'Lexical Diversity': romance_df['Lexical Diversity'].mean()\n",
        "}\n",
        "\n",
        "horror_df = pd.concat([horror_df, pd.DataFrame([horror_averages])], ignore_index=True)\n",
        "romance_df = pd.concat([romance_df, pd.DataFrame([romance_averages])], ignore_index=True)\n",
        "\n",
        "print(\"=== Horror Category Metrics ===\")\n",
        "print(horror_df)\n",
        "print(\"\\n=== Romance Category Metrics ===\")\n",
        "print(romance_df)\n",
        "\n",
        "# Save results to CSV files\n",
        "horror_df.to_csv('/content/drive/MyDrive/horror_lexical_profile.csv', index=False)\n",
        "romance_df.to_csv('/content/drive/MyDrive/romance_lexical_profile.csv', index=False)\n",
        "\n"
      ],
      "metadata": {
        "colab": {
          "base_uri": "https://localhost:8080/"
        },
        "id": "2QXiEMIdBYM2",
        "outputId": "022e8bc7-6873-4bbf-b532-9a3d6e40cdae"
      },
      "execution_count": null,
      "outputs": [
        {
          "output_type": "stream",
          "name": "stdout",
          "text": [
            "=== Horror Category Metrics ===\n",
            "            File  Total Tokens  Unique Types  Lexical Diversity\n",
            "0    horror1.txt      103874.0        8095.0            0.07790\n",
            "1    horror2.txt      129548.0        9081.0            0.07010\n",
            "2    horror3.txt       71466.0        7365.0            0.10310\n",
            "3    horror4.txt      102701.0        8796.0            0.08560\n",
            "4    horror5.txt       66480.0        5060.0            0.07610\n",
            "5    horror6.txt       91590.0        8104.0            0.08850\n",
            "6    horror7.txt       40191.0        4623.0            0.11500\n",
            "7    horror8.txt       59940.0        5785.0            0.09650\n",
            "8    horror9.txt       67098.0        6722.0            0.10020\n",
            "9   horror10.txt       29596.0        4167.0            0.14080\n",
            "10       AVERAGE       76248.4        6779.8            0.09538\n",
            "\n",
            "=== Romance Category Metrics ===\n",
            "             File  Total Tokens  Unique Types  Lexical Diversity\n",
            "0    romance1.txt       65701.0        5535.0            0.08420\n",
            "1    romance2.txt      197465.0       12507.0            0.06330\n",
            "2    romance3.txt      251840.0       12810.0            0.05090\n",
            "3    romance4.txt       89205.0        7753.0            0.08690\n",
            "4    romance5.txt      105285.0        9979.0            0.09480\n",
            "5    romance6.txt      147833.0       10661.0            0.07210\n",
            "6    romance7.txt      225984.0       13250.0            0.05860\n",
            "7    romance8.txt      104855.0        8100.0            0.07720\n",
            "8    romance9.txt       78867.0        6924.0            0.08780\n",
            "9   romance10.txt      126325.0        7257.0            0.05740\n",
            "10        AVERAGE      139336.0        9477.6            0.07332\n"
          ]
        }
      ]
    },
    {
      "cell_type": "markdown",
      "source": [
        "# Interpretation of Results\n",
        "\n",
        "My research question asked whether horror novels employ a higher frequency of fear-related vocabulary compared to romance novels, which may favor more positively-valenced emotional words. While our initial analysis didn't directly measure emotional vocabulary frequencies, our lexical analysis reveals several interesting patterns that provide insight into how these genres differ linguistically.\n",
        "\n",
        "Structural Differences\n",
        "The most striking difference is in text length: romance novels are significantly longer, averaging 139,336 words compared to horror's 76,248 words. This substantial difference (romance novels being almost twice as long) suggests different storytelling approaches. Romance novels tend to develop emotional relationships gradually through extended character development and dialogue, while horror novels favor brevity and intensity to maintain suspense.\n",
        "\n",
        "Vocabulary Usage and Diversity\n",
        "Though horror novels are shorter, they demonstrate higher lexical diversity (0.0315) compared to romance novels (0.0257). This higher diversity suggests horror authors employ a more varied vocabulary despite using fewer words overall. This finding partially supports our hypothesis about genre-specific vocabulary usage - horror writers appear to carefully select diverse words to create precise emotional effects, possibly including fear-related terms, rather than relying on repetitive language.\n",
        "\n",
        "Implications for Genre Conventions\n",
        "Romance novels' lower lexical diversity doesn't indicate less sophisticated writing, but rather reflects genre conventions. The repetition of emotional terms may serve to reinforce themes of love and relationship development. Conversely, horror's higher lexical diversity suggests authors may need a broader vocabulary to maintain tension and create varied descriptions of fear-inducing scenarios.\n",
        "\n",
        "Future Research Directions\n",
        "To directly address our original research question, future analysis should:\n",
        "\n",
        "Create specific lexicons of fear-related and love-related terms to measure their frequencies\n",
        "\n",
        "Implement sentiment analysis to compare emotional valence between genres\n",
        "\n",
        "Examine specific passages where emotional vocabulary clusters occur\n",
        "\n",
        "Analyze adjective usage specifically, as these might carry significant\n",
        "emotional weight\n",
        "\n",
        "Compare subgenres (e.g., supernatural horror vs. psychological horror, historical romance vs. contemporary romance) to identify more nuanced patterns\n",
        "\n",
        "These findings suggest that while both genres deal with intense emotions, they employ distinctly different linguistic strategies to achieve their effects. Horror novels use precise, varied vocabulary in shorter texts, while romance novels develop emotional resonance through longer narratives with more repetitive but emotionally consistent language.\n",
        "\n",
        "\n"
      ],
      "metadata": {
        "id": "SqR_r1QgJJeT"
      }
    }
  ]
}